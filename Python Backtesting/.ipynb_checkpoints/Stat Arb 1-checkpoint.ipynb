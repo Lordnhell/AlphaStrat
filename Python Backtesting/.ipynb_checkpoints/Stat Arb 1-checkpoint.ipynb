{
 "cells": [
  {
   "cell_type": "markdown",
   "metadata": {},
   "source": [
    "## Statistical Arbitrage on Nq1! Es1!\n",
    "\n",
    "Connect this to the C++ infra ASAP"
   ]
  },
  {
   "cell_type": "code",
   "execution_count": 10,
   "metadata": {
    "scrolled": false
   },
   "outputs": [],
   "source": [
    "# !pip install Alpaca-py\n",
    "# Alpaca keys (Edit ../config/config.json)\n",
    "API_KEY = \"PK6WF8ZJNVMFF8CKXK0Q\"  # Replace with your actual key\n",
    "API_SECRET = \"KOiTLdEW5kYVQ8WyamHcv3TLpdHh3fK4sLTmvq8i\"  # Replace with your actual secret"
   ]
  },
  {
   "cell_type": "code",
   "execution_count": null,
   "metadata": {},
   "outputs": [],
   "source": [
    "import os\n",
    "import pandas as pd\n",
    "from alpaca.data.historical import StockHistoricalDataClient\n",
    "from alpaca.data.requests import StockBarsRequest\n",
    "from alpaca.data.timeframe import TimeFrame\n",
    "from datetime import datetime\n",
    "import signal\n",
    "import sys"
   ]
  },
  {
   "cell_type": "code",
   "execution_count": null,
   "metadata": {},
   "outputs": [],
   "source": [
    "# Initialize Alpaca Historical Data Client\n",
    "client = StockHistoricalDataClient(API_KEY, API_SECRET)\n",
    "\n",
    "# Trade log\n",
    "trade_log = []\n",
    "\n",
    "def fetch_data(symbol: str, start_date: str, end_date: str):\n",
    "    \"\"\"Fetch historical data for the given symbol.\"\"\"\n",
    "    request_params = StockBarsRequest(\n",
    "        symbol_or_symbols=symbol,\n",
    "        timeframe=TimeFrame.Day,\n",
    "        start=start_date,\n",
    "        end=end_date\n",
    "    )\n",
    "    bars = client.get_stock_bars(request_params)\n",
    "    df = bars.df.reset_index()\n",
    "    df = df[df['symbol'] == symbol]  # Ensure single symbol data\n",
    "    return df\n",
    "\n",
    "\n",
    "\n",
    "def execute_trades(data):\n",
    "    \"\"\"Simulate trade execution and log trades.\"\"\"\n",
    "    global trade_log\n",
    "    for i in range(1, len(data)):\n",
    "        if data['Signal'].iloc[i] != data['Signal'].iloc[i - 1]:\n",
    "            action = \"BUY\" if data['Signal'].iloc[i] == 1 else \"SELL\"\n",
    "            trade_log.append({\n",
    "                'Date': data['timestamp'].iloc[i],\n",
    "                'Action': action,\n",
    "                'Price': data['close'].iloc[i]\n",
    "            })\n",
    "\n",
    "def save_to_csv(file_name=\"trade_log.csv\"):\n",
    "    \"\"\"Save trades to a CSV file.\"\"\"\n",
    "    global trade_log\n",
    "    if trade_log:\n",
    "        df = pd.DataFrame(trade_log)\n",
    "        df.to_csv(file_name, index=False)\n",
    "        print(f\"Trade log saved to {file_name}.\")\n",
    "\n",
    "# Graceful exit handling\n",
    "def signal_handler(sig, frame):\n",
    "    print(\"\\nExecution interrupted. Saving trades...\")\n",
    "    save_to_csv()\n",
    "    sys.exit(0)\n",
    "\n",
    "signal.signal(signal.SIGINT, signal_handler)\n"
   ]
  },
  {
   "cell_type": "markdown",
   "metadata": {},
   "source": [
    "### Strategy testing"
   ]
  },
  {
   "cell_type": "code",
   "execution_count": 8,
   "metadata": {},
   "outputs": [],
   "source": [
    "def strategy(data):\n",
    "    \"\"\"Simple Moving Average Crossover Strategy.\"\"\"\n",
    "    data['SMA_10'] = data['close'].rolling(window=10).mean()\n",
    "    data['SMA_30'] = data['close'].rolling(window=30).mean()\n",
    "    data['Signal'] = 0\n",
    "    data.loc[data['SMA_10'] > data['SMA_30'], 'Signal'] = 1  # Buy\n",
    "    data.loc[data['SMA_10'] <= data['SMA_30'], 'Signal'] = -1  # Sell\n",
    "    return data"
   ]
  },
  {
   "cell_type": "markdown",
   "metadata": {},
   "source": [
    "### Main execution\n",
    "\n",
    "Downloads trade log to csv after kernal is interupted"
   ]
  },
  {
   "cell_type": "code",
   "execution_count": null,
   "metadata": {},
   "outputs": [],
   "source": [
    "# Main execution\n",
    "if __name__ == \"__main__\":\n",
    "    symbol = \"AAPL\"\n",
    "    start_date = \"2023-01-01\"\n",
    "    end_date = \"2023-12-31\"\n",
    "\n",
    "    print(\"Fetching data...\")\n",
    "    data = fetch_data(symbol, start_date, end_date)\n",
    "\n",
    "    print(\"Applying strategy...\")\n",
    "    data = strategy(data)\n",
    "\n",
    "    print(\"Executing trades...\")\n",
    "    execute_trades(data)\n",
    "\n",
    "    print(\"Trades executed. Waiting for interruption to save...\")\n",
    "    while True:\n",
    "        pass"
   ]
  },
  {
   "cell_type": "code",
   "execution_count": null,
   "metadata": {},
   "outputs": [],
   "source": []
  },
  {
   "cell_type": "code",
   "execution_count": null,
   "metadata": {},
   "outputs": [],
   "source": []
  },
  {
   "cell_type": "code",
   "execution_count": null,
   "metadata": {},
   "outputs": [],
   "source": []
  },
  {
   "cell_type": "code",
   "execution_count": null,
   "metadata": {},
   "outputs": [],
   "source": []
  },
  {
   "cell_type": "code",
   "execution_count": null,
   "metadata": {},
   "outputs": [],
   "source": []
  }
 ],
 "metadata": {
  "kernelspec": {
   "display_name": "Python 3",
   "language": "python",
   "name": "python3"
  },
  "language_info": {
   "codemirror_mode": {
    "name": "ipython",
    "version": 3
   },
   "file_extension": ".py",
   "mimetype": "text/x-python",
   "name": "python",
   "nbconvert_exporter": "python",
   "pygments_lexer": "ipython3",
   "version": "3.8.5"
  }
 },
 "nbformat": 4,
 "nbformat_minor": 4
}
