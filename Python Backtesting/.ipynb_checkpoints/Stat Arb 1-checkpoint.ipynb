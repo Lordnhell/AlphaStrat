{
 "cells": [
  {
   "cell_type": "markdown",
   "metadata": {},
   "source": [
    "## Statistical Arbitrage on Nq1! Es1!\n",
    "\n",
    "Connect this to the C++ infra ASAP"
   ]
  },
  {
   "cell_type": "code",
   "execution_count": 6,
   "metadata": {},
   "outputs": [],
   "source": [
    "# !pip install Alpaca-py"
   ]
  },
  {
   "cell_type": "code",
   "execution_count": 12,
   "metadata": {},
   "outputs": [],
   "source": [
    "import os\n",
    "import json\n",
    "import pandas as pd\n",
    "from alpaca.data.historical import StockHistoricalDataClient\n",
    "from alpaca.data.requests import StockBarsRequest\n",
    "from alpaca.data.timeframe import TimeFrame\n",
    "from datetime import datetime\n",
    "import signal\n",
    "import sys"
   ]
  },
  {
   "cell_type": "code",
   "execution_count": 13,
   "metadata": {
    "scrolled": false
   },
   "outputs": [],
   "source": [
    "# Alpaca keys (Edit ../config/config.json)(MAKE SURE THIS JSON IS UNTRACKED IN GITHUB, DO NOT COMMIT KEYS)\n",
    "\n",
    "# Load config\n",
    "CONFIG_PATH = \"../config/config.json\"\n",
    "with open(CONFIG_PATH, \"r\") as file:\n",
    "    config = json.load(file)\n",
    "\n",
    "ALPACA_API_KEY = config[\"marketAdapter\"][\"alpacaAdapter\"][\"api_key\"]\n",
    "ALPACA_API_SECRET = config[\"marketAdapter\"][\"alpacaAdapter\"][\"api_secret\"]\n",
    "BASE_URL = config[\"marketAdapter\"][\"alpacaAdapter\"][\"base_url\"]"
   ]
  },
  {
   "cell_type": "markdown",
   "metadata": {},
   "source": [
    "## Alpaca Clients"
   ]
  },
  {
   "cell_type": "code",
   "execution_count": null,
   "metadata": {},
   "outputs": [],
   "source": [
    "# Initialize Alpaca Historical and Trading Clients\n",
    "data_client = StockHistoricalDataClient(ALPACA_API_KEY, ALPACA_API_SECRET)\n",
    "trading_client = TradingClient(ALPACA_API_KEY, ALPACA_API_SECRET, paper=True)  # paper mode "
   ]
  },
  {
   "cell_type": "code",
   "execution_count": 14,
   "metadata": {},
   "outputs": [
    {
     "data": {
      "text/plain": [
       "<function _signal.default_int_handler>"
      ]
     },
     "execution_count": 14,
     "metadata": {},
     "output_type": "execute_result"
    }
   ],
   "source": [
    "# Trade log\n",
    "trade_log = []\n",
    "\n",
    "def fetch_data(symbol: str, start_date: str, end_date: str):\n",
    "    \"\"\"Fetch historical data for the given symbol.\"\"\"\n",
    "    request_params = StockBarsRequest(\n",
    "        symbol_or_symbols=symbol,\n",
    "        timeframe=TimeFrame.Day,\n",
    "        start=start_date,\n",
    "        end=end_date\n",
    "    )\n",
    "    bars = client.get_stock_bars(request_params)\n",
    "    df = bars.df.reset_index()\n",
    "    df = df[df['symbol'] == symbol]  # Ensure single symbol data\n",
    "    return df\n",
    "\n",
    "\n",
    "\n",
    "def execute_trades(data):\n",
    "    \"\"\"Simulate trade execution and log trades.\"\"\"\n",
    "    global trade_log\n",
    "    for i in range(1, len(data)):\n",
    "        if data['Signal'].iloc[i] != data['Signal'].iloc[i - 1]:\n",
    "            action = \"BUY\" if data['Signal'].iloc[i] == 1 else \"SELL\"\n",
    "            trade_log.append({\n",
    "                'Date': data['timestamp'].iloc[i],\n",
    "                'Action': action,\n",
    "                'Price': data['close'].iloc[i]\n",
    "            })\n",
    "\n",
    "def save_to_csv(file_name=\"trade_log.csv\"):\n",
    "    \"\"\"Save trades to a CSV file.\"\"\"\n",
    "    global trade_log\n",
    "    if trade_log:\n",
    "        df = pd.DataFrame(trade_log)\n",
    "        df.to_csv(file_name, index=False)\n",
    "        print(f\"Trade log saved to {file_name}.\")\n",
    "\n",
    "# Graceful exit handling\n",
    "def signal_handler(sig, frame):\n",
    "    print(\"\\nExecution interrupted. Saving trades...\")\n",
    "    save_to_csv()\n",
    "    sys.exit(0)\n",
    "\n",
    "signal.signal(signal.SIGINT, signal_handler)\n"
   ]
  },
  {
   "cell_type": "markdown",
   "metadata": {},
   "source": [
    "### Strategy testing"
   ]
  },
  {
   "cell_type": "code",
   "execution_count": 15,
   "metadata": {},
   "outputs": [],
   "source": [
    "def strategy(data):\n",
    "    \"\"\"Simple Moving Average Crossover Strategy.\"\"\"\n",
    "    data['SMA_10'] = data['close'].rolling(window=10).mean()\n",
    "    data['SMA_30'] = data['close'].rolling(window=30).mean()\n",
    "    data['Signal'] = 0\n",
    "    data.loc[data['SMA_10'] > data['SMA_30'], 'Signal'] = 1  # Buy\n",
    "    data.loc[data['SMA_10'] <= data['SMA_30'], 'Signal'] = -1  # Sell\n",
    "    return data"
   ]
  },
  {
   "cell_type": "markdown",
   "metadata": {},
   "source": [
    "### Main execution\n",
    "\n",
    "Downloads trade log to csv after kernal is interupted"
   ]
  },
  {
   "cell_type": "code",
   "execution_count": 17,
   "metadata": {},
   "outputs": [
    {
     "name": "stdout",
     "output_type": "stream",
     "text": [
      "Fetching data...\n",
      "Applying strategy...\n",
      "Executing trades...\n",
      "Trades executed. Waiting for interruption to save...\n"
     ]
    },
    {
     "ename": "KeyboardInterrupt",
     "evalue": "",
     "output_type": "error",
     "traceback": [
      "\u001b[1;31m---------------------------------------------------------------------------\u001b[0m",
      "\u001b[1;31mKeyboardInterrupt\u001b[0m                         Traceback (most recent call last)",
      "\u001b[1;32m<ipython-input-17-90c4ccd1895b>\u001b[0m in \u001b[0;36m<module>\u001b[1;34m\u001b[0m\n\u001b[0;32m     17\u001b[0m     \u001b[0mprint\u001b[0m\u001b[1;33m(\u001b[0m\u001b[1;34m\"Trades executed. Waiting for interruption to save...\"\u001b[0m\u001b[1;33m)\u001b[0m\u001b[1;33m\u001b[0m\u001b[1;33m\u001b[0m\u001b[0m\n\u001b[0;32m     18\u001b[0m     \u001b[1;32mwhile\u001b[0m \u001b[1;32mTrue\u001b[0m\u001b[1;33m:\u001b[0m\u001b[1;33m\u001b[0m\u001b[1;33m\u001b[0m\u001b[0m\n\u001b[1;32m---> 19\u001b[1;33m         \u001b[1;32mpass\u001b[0m\u001b[1;33m\u001b[0m\u001b[1;33m\u001b[0m\u001b[0m\n\u001b[0m",
      "\u001b[1;31mKeyboardInterrupt\u001b[0m: "
     ]
    }
   ],
   "source": [
    "# Main execution\n",
    "if __name__ == \"__main__\":\n",
    "    \n",
    "    symbol = \"AAPL\"\n",
    "    start_date = \"2023-01-01\"\n",
    "    end_date = \"2023-12-31\"\n",
    "\n",
    "    print(\"Fetching data...\")\n",
    "    data = fetch_data(symbol, start_date, end_date)\n",
    "\n",
    "    print(\"Applying strategy...\")\n",
    "    data = strategy(data)\n",
    "\n",
    "    print(\"Executing trades...\")\n",
    "    execute_trades(data)\n",
    "\n",
    "    print(\"Trades executed. Waiting for interruption to save...\")\n",
    "    while True:\n",
    "        pass"
   ]
  },
  {
   "cell_type": "code",
   "execution_count": null,
   "metadata": {},
   "outputs": [],
   "source": []
  },
  {
   "cell_type": "code",
   "execution_count": null,
   "metadata": {},
   "outputs": [],
   "source": []
  },
  {
   "cell_type": "code",
   "execution_count": null,
   "metadata": {},
   "outputs": [],
   "source": []
  },
  {
   "cell_type": "code",
   "execution_count": null,
   "metadata": {},
   "outputs": [],
   "source": []
  },
  {
   "cell_type": "code",
   "execution_count": null,
   "metadata": {},
   "outputs": [],
   "source": []
  }
 ],
 "metadata": {
  "kernelspec": {
   "display_name": "Python 3",
   "language": "python",
   "name": "python3"
  },
  "language_info": {
   "codemirror_mode": {
    "name": "ipython",
    "version": 3
   },
   "file_extension": ".py",
   "mimetype": "text/x-python",
   "name": "python",
   "nbconvert_exporter": "python",
   "pygments_lexer": "ipython3",
   "version": "3.8.5"
  }
 },
 "nbformat": 4,
 "nbformat_minor": 4
}
