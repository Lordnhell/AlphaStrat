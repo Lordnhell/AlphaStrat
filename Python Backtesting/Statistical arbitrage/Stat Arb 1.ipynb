{
 "cells": [
  {
   "cell_type": "markdown",
   "metadata": {},
   "source": [
    "## Statistical Arbitrage on Nq1! Es1!\n",
    "\n",
    "Connect this to the C++ infra ASAP"
   ]
  },
  {
   "cell_type": "code",
   "execution_count": 40,
   "metadata": {},
   "outputs": [],
   "source": [
    "# !pip install Alpaca-py\n",
    "# !pip install --upgrade yfinance"
   ]
  },
  {
   "cell_type": "code",
   "execution_count": 41,
   "metadata": {},
   "outputs": [],
   "source": [
    "import os\n",
    "import json\n",
    "import pandas as pd\n",
    "from alpaca.data.historical import StockHistoricalDataClient\n",
    "from alpaca.data.requests import StockBarsRequest\n",
    "from alpaca.data.timeframe import TimeFrame\n",
    "from datetime import datetime\n",
    "import signal\n",
    "import sys"
   ]
  },
  {
   "cell_type": "code",
   "execution_count": 52,
   "metadata": {
    "scrolled": false
   },
   "outputs": [],
   "source": [
    "# Alpaca keys (Edit ../config/config.json)(MAKE SURE THIS JSON IS UNTRACKED IN GITHUB, DO NOT COMMIT KEYS)\n",
    "\n",
    "# Load config\n",
    "CONFIG_PATH = \"../config/config.json\"\n",
    "with open(CONFIG_PATH, \"r\") as file:\n",
    "    config = json.load(file)\n",
    "\n",
    "ALPACA_API_KEY = config[\"marketAdapter\"][\"alpacaAdapter\"][\"api_key\"]\n",
    "ALPACA_API_SECRET = config[\"marketAdapter\"][\"alpacaAdapter\"][\"api_secret\"]\n",
    "BASE_URL = config[\"marketAdapter\"][\"alpacaAdapter\"][\"base_url\"]"
   ]
  },
  {
   "cell_type": "code",
   "execution_count": 58,
   "metadata": {},
   "outputs": [
    {
     "name": "stdout",
     "output_type": "stream",
     "text": [
      "CSV saved as spy_bars.csv\n"
     ]
    }
   ],
   "source": [
    "import requests\n",
    "import pandas as pd\n",
    "\n",
    "# API URL and Headers\n",
    "url = \"https://data.alpaca.markets/v2/stocks/bars?symbols=QQQ&timeframe=1min&start=2025-01-21T00%3A00%3A00Z&limit=1440&adjustment=raw&feed=sip&sort=asc\"\n",
    "headers = {\n",
    "    \"accept\": \"application/json\",\n",
    "    \"APCA-API-KEY-ID\": ALPACA_API_KEY,  # Replace with your actual API key\n",
    "    \"APCA-API-SECRET-KEY\": ALPACA_API_SECRET  # Replace with your actual API secret\n",
    "}\n",
    "\n",
    "# Fetch the response\n",
    "response = requests.get(url, headers=headers)\n",
    "if response.status_code == 200:\n",
    "    data = response.json()\n",
    "    \n",
    "    # Extract bars for SPY\n",
    "    bars = data['bars']['QQQ']\n",
    "    \n",
    "    # Convert to DataFrame\n",
    "    df = pd.DataFrame(bars)\n",
    "    \n",
    "    # Convert timestamp column to datetime\n",
    "    df['t'] = pd.to_datetime(df['t'])\n",
    "    \n",
    "    # Save to CSV\n",
    "    df.to_csv(\"spy_bars.csv\", index=False)\n",
    "    print(\"CSV saved as spy_bars.csv\")\n",
    "else:\n",
    "    print(f\"Failed to fetch data: {response.status_code}, {response.text}\")"
   ]
  },
  {
   "cell_type": "markdown",
   "metadata": {},
   "source": [
    "## Alpaca Clients"
   ]
  },
  {
   "cell_type": "code",
   "execution_count": null,
   "metadata": {},
   "outputs": [],
   "source": [
    "# Initialize Alpaca Historical and Trading Clients\n",
    "data_client = StockHistoricalDataClient(ALPACA_API_KEY, ALPACA_API_SECRET)\n",
    "live_data_client = StockLiveDataClient(ALPACA_API_KEY, ALPACA_API_SECRET)  # For real-time data\n",
    "trading_client = TradingClient(ALPACA_API_KEY, ALPACA_API_SECRET, paper=True)  # Paper mode enabled"
   ]
  },
  {
   "cell_type": "code",
   "execution_count": 19,
   "metadata": {},
   "outputs": [],
   "source": [
    "# Trade log\n",
    "trade_log = []\n",
    "\n",
    "def fetch_historical_data(symbol: str, start_date: str, end_date: str):\n",
    "    \"\"\"Fetch historical data for backtesting.\"\"\"\n",
    "    request_params = StockBarsRequest(\n",
    "        symbol_or_symbols=symbol,\n",
    "        timeframe=TimeFrame.Day,\n",
    "        start=start_date,\n",
    "        end=end_date\n",
    "    )\n",
    "    bars = data_client.get_stock_bars(request_params)\n",
    "    df = bars.df.reset_index()\n",
    "    df = df[df['symbol'] == symbol]  # Filter for the requested symbol\n",
    "    return df\n",
    "\n",
    "\n",
    "def execute_historical_trades(data):\n",
    "    \"\"\"Simulate trades based on strategy signals.\"\"\"\n",
    "    global trade_log\n",
    "    for i in range(1, len(data)):\n",
    "        if data['Signal'].iloc[i] != data['Signal'].iloc[i - 1]:\n",
    "            action = \"BUY\" if data['Signal'].iloc[i] == 1 else \"SELL\"\n",
    "            trade_log.append({\n",
    "                'Date': data['timestamp'].iloc[i],\n",
    "                'Action': action,\n",
    "                'Price': data['close'].iloc[i]\n",
    "            })\n",
    "\n",
    "            \n",
    "def fetch_real_time_data(symbol: str):\n",
    "    \"\"\"Fetch real-time data for the given symbol.\"\"\"\n",
    "    request_params = StockLatestQuoteRequest(symbol_or_symbols=symbol)\n",
    "    quote = live_data_client.get_stock_latest_quote(request_params)\n",
    "    data = {\n",
    "        \"timestamp\": datetime.now(),\n",
    "        \"symbol\": symbol,\n",
    "        \"open\": quote[symbol].ask_price,\n",
    "        \"close\": quote[symbol].bid_price,\n",
    "        \"high\": quote[symbol].ask_price + 0.5,  # Approximation\n",
    "        \"low\": quote[symbol].bid_price - 0.5,   # Approximation\n",
    "        \"volume\": 0                            # Volume data not always available\n",
    "    }\n",
    "    return pd.DataFrame([data])\n",
    "            \n",
    "def execute_live_trade(symbol, signal):\n",
    "    \"\"\"Execute live trade on Alpaca.\"\"\"\n",
    "    side = OrderSide.BUY if signal == 1 else OrderSide.SELL\n",
    "    try:\n",
    "        order = MarketOrderRequest(\n",
    "            symbol=symbol,\n",
    "            qty=1,  # Adjust quantity as needed\n",
    "            side=side,\n",
    "            time_in_force=TimeInForce.DAY\n",
    "        )\n",
    "        trading_client.submit_order(order)\n",
    "        print(f\"{side.capitalize()} order placed for {symbol}\")\n",
    "    except Exception as e:\n",
    "        print(f\"Error placing order: {e}\")\n",
    "        \n",
    "def save_to_csv(file_name=\"trade_log.csv\"):\n",
    "    \"\"\"Save trade log to CSV.\"\"\"\n",
    "    global trade_log\n",
    "    if trade_log:\n",
    "        df = pd.DataFrame(trade_log)\n",
    "        df.to_csv(file_name, index=False)\n",
    "        print(f\"Trade log saved to {file_name}.\")\n",
    "\n",
    "def signal_handler(sig, frame):\n",
    "    print(\"\\nExecution interrupted. Saving trades...\")\n",
    "    save_to_csv()\n",
    "    sys.exit(0)\n",
    "\n",
    "signal.signal(signal.SIGINT, signal_handler)"
   ]
  },
  {
   "cell_type": "markdown",
   "metadata": {},
   "source": [
    "### Strategy testing"
   ]
  },
  {
   "cell_type": "code",
   "execution_count": 15,
   "metadata": {},
   "outputs": [],
   "source": [
    "def apply_strategy(data):\n",
    "    \"\"\"Simple Moving Average Crossover Strategy.\"\"\"\n",
    "    data['SMA_10'] = data['close'].rolling(window=10).mean()\n",
    "    data['SMA_30'] = data['close'].rolling(window=30).mean()\n",
    "    data['Signal'] = 0\n",
    "    data.loc[data['SMA_10'] > data['SMA_30'], 'Signal'] = 1  # Buy\n",
    "    data.loc[data['SMA_10'] <= data['SMA_30'], 'Signal'] = -1  # Sell\n",
    "    return data"
   ]
  },
  {
   "cell_type": "markdown",
   "metadata": {},
   "source": [
    "### Main execution\n",
    "\n",
    "Downloads trade log to csv after kernal is interupted"
   ]
  },
  {
   "cell_type": "markdown",
   "metadata": {},
   "source": [
    "#### Historical testing"
   ]
  },
  {
   "cell_type": "code",
   "execution_count": 17,
   "metadata": {},
   "outputs": [
    {
     "name": "stdout",
     "output_type": "stream",
     "text": [
      "Fetching data...\n",
      "Applying strategy...\n",
      "Executing trades...\n",
      "Trades executed. Waiting for interruption to save...\n"
     ]
    },
    {
     "ename": "KeyboardInterrupt",
     "evalue": "",
     "output_type": "error",
     "traceback": [
      "\u001b[1;31m---------------------------------------------------------------------------\u001b[0m",
      "\u001b[1;31mKeyboardInterrupt\u001b[0m                         Traceback (most recent call last)",
      "\u001b[1;32m<ipython-input-17-90c4ccd1895b>\u001b[0m in \u001b[0;36m<module>\u001b[1;34m\u001b[0m\n\u001b[0;32m     17\u001b[0m     \u001b[0mprint\u001b[0m\u001b[1;33m(\u001b[0m\u001b[1;34m\"Trades executed. Waiting for interruption to save...\"\u001b[0m\u001b[1;33m)\u001b[0m\u001b[1;33m\u001b[0m\u001b[1;33m\u001b[0m\u001b[0m\n\u001b[0;32m     18\u001b[0m     \u001b[1;32mwhile\u001b[0m \u001b[1;32mTrue\u001b[0m\u001b[1;33m:\u001b[0m\u001b[1;33m\u001b[0m\u001b[1;33m\u001b[0m\u001b[0m\n\u001b[1;32m---> 19\u001b[1;33m         \u001b[1;32mpass\u001b[0m\u001b[1;33m\u001b[0m\u001b[1;33m\u001b[0m\u001b[0m\n\u001b[0m",
      "\u001b[1;31mKeyboardInterrupt\u001b[0m: "
     ]
    }
   ],
   "source": [
    "symbol = \"AAPL\"\n",
    "start_date = \"2023-01-01\"\n",
    "end_date = \"2023-12-31\"\n",
    "\n",
    "print(\"Fetching historical data...\")\n",
    "historical_data = fetch_historical_data(symbol, start_date, end_date)\n",
    "\n",
    "print(\"Applying strategy...\")\n",
    "historical_data = apply_strategy(historical_data)\n",
    "\n",
    "print(\"Executing historical trades...\")\n",
    "execute_historical_trades(historical_data)\n",
    "\n",
    "print(\"Saving historical trade log...\")\n",
    "save_to_csv(\"historical_trade_log.csv\")"
   ]
  },
  {
   "cell_type": "markdown",
   "metadata": {},
   "source": [
    "#### Live Testing (paper mode)"
   ]
  },
  {
   "cell_type": "code",
   "execution_count": null,
   "metadata": {},
   "outputs": [],
   "source": [
    "\"\"\"\n",
    "symbol = \"AAPL\"\n",
    "start_date = \"2023-01-01\"\n",
    "end_date = \"2023-12-31\"\n",
    "print(\"Starting live trading...\")\n",
    "\n",
    "while True:\n",
    "    try:\n",
    "        live_data = fetch_historical_data(symbol, \"2023-12-01\", \"2023-12-31\")  # Replace with actual fetch\n",
    "        live_data = apply_strategy(live_data)\n",
    "        latest_signal = live_data['Signal'].iloc[-1]\n",
    "        execute_live_trade(symbol, latest_signal)\n",
    "    except Exception as e:\n",
    "        print(f\"Live trading error: {e}\")\n",
    "    time.sleep(60)  # Wait 1 minute before checking again\n",
    "\"\"\""
   ]
  },
  {
   "cell_type": "code",
   "execution_count": null,
   "metadata": {},
   "outputs": [],
   "source": []
  },
  {
   "cell_type": "code",
   "execution_count": null,
   "metadata": {},
   "outputs": [],
   "source": []
  },
  {
   "cell_type": "code",
   "execution_count": null,
   "metadata": {},
   "outputs": [],
   "source": []
  },
  {
   "cell_type": "code",
   "execution_count": null,
   "metadata": {},
   "outputs": [],
   "source": []
  }
 ],
 "metadata": {
  "kernelspec": {
   "display_name": "Python 3",
   "language": "python",
   "name": "python3"
  },
  "language_info": {
   "codemirror_mode": {
    "name": "ipython",
    "version": 3
   },
   "file_extension": ".py",
   "mimetype": "text/x-python",
   "name": "python",
   "nbconvert_exporter": "python",
   "pygments_lexer": "ipython3",
   "version": "3.8.5"
  }
 },
 "nbformat": 4,
 "nbformat_minor": 4
}
