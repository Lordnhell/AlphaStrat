{
  "nbformat": 4,
  "nbformat_minor": 0,
  "metadata": {
    "colab": {
      "provenance": []
    },
    "kernelspec": {
      "name": "python3",
      "display_name": "Python 3"
    },
    "language_info": {
      "name": "python"
    }
  },
  "cells": [
    {
      "cell_type": "markdown",
      "source": [
        "Packages to Install"
      ],
      "metadata": {
        "id": "IsqmysrD5xZy"
      }
    },
    {
      "cell_type": "code",
      "execution_count": 1,
      "metadata": {
        "id": "00gk4SmO5RYT"
      },
      "outputs": [],
      "source": [
        "import pandas as pd\n",
        "import yfinance as yf\n",
        "from datetime import datetime, timedelta\n",
        "import pytz"
      ]
    },
    {
      "cell_type": "markdown",
      "source": [
        "Download Price Data"
      ],
      "metadata": {
        "id": "qA-xutQZ50ty"
      }
    },
    {
      "cell_type": "code",
      "source": [
        "data = yf.download('GC=F', interval='5m', period='7d')\n",
        "print(data.head)"
      ],
      "metadata": {
        "colab": {
          "base_uri": "https://localhost:8080/"
        },
        "id": "-Vxq95Mv5226",
        "outputId": "d1524ae4-e99a-4c39-cde0-bb119cf79fe7"
      },
      "execution_count": 5,
      "outputs": [
        {
          "output_type": "stream",
          "name": "stderr",
          "text": [
            "\r[*********************100%***********************]  1 of 1 completed"
          ]
        },
        {
          "output_type": "stream",
          "name": "stdout",
          "text": [
            "<bound method NDFrame.head of Price                            Close         High          Low         Open  \\\n",
            "Ticker                            GC=F         GC=F         GC=F         GC=F   \n",
            "Datetime                                                                        \n",
            "2025-03-28 04:00:00+00:00  3084.800049  3085.500000  3084.399902  3084.899902   \n",
            "2025-03-28 04:05:00+00:00  3083.600098  3083.899902  3083.600098  3083.899902   \n",
            "2025-03-28 04:15:00+00:00  3084.600098  3084.600098  3083.399902  3083.399902   \n",
            "2025-03-28 04:20:00+00:00  3084.199951  3084.399902  3084.100098  3084.399902   \n",
            "2025-03-28 04:25:00+00:00  3084.600098  3084.600098  3084.300049  3084.300049   \n",
            "...                                ...          ...          ...          ...   \n",
            "2025-04-04 12:35:00+00:00  3099.800049  3115.100098  3074.500000  3112.199951   \n",
            "2025-04-04 12:40:00+00:00  3108.699951  3108.800049  3065.500000  3099.399902   \n",
            "2025-04-04 12:45:00+00:00  3098.600098  3110.000000  3071.000000  3107.800049   \n",
            "2025-04-04 12:50:00+00:00  3090.100098  3100.199951  3071.000000  3074.000000   \n",
            "2025-04-04 12:55:00+00:00  3093.500000  3095.899902  3088.300049  3089.699951   \n",
            "\n",
            "Price                     Volume  \n",
            "Ticker                      GC=F  \n",
            "Datetime                          \n",
            "2025-03-28 04:00:00+00:00      0  \n",
            "2025-03-28 04:05:00+00:00      3  \n",
            "2025-03-28 04:15:00+00:00     31  \n",
            "2025-03-28 04:20:00+00:00     10  \n",
            "2025-03-28 04:25:00+00:00     43  \n",
            "...                          ...  \n",
            "2025-04-04 12:35:00+00:00   4671  \n",
            "2025-04-04 12:40:00+00:00   7536  \n",
            "2025-04-04 12:45:00+00:00   2755  \n",
            "2025-04-04 12:50:00+00:00   2611  \n",
            "2025-04-04 12:55:00+00:00    985  \n",
            "\n",
            "[1483 rows x 5 columns]>\n"
          ]
        },
        {
          "output_type": "stream",
          "name": "stderr",
          "text": [
            "\n"
          ]
        }
      ]
    },
    {
      "cell_type": "markdown",
      "source": [
        "**SGT Timezone**"
      ],
      "metadata": {
        "id": "q0vMOVgo62K2"
      }
    },
    {
      "cell_type": "code",
      "source": [
        "data = data.reset_index()\n",
        "data['Datetime'] = data['Datetime'].dt.tz_convert('Asia/Singapore')\n",
        "print(data['Datetime'].head())"
      ],
      "metadata": {
        "colab": {
          "base_uri": "https://localhost:8080/"
        },
        "id": "CnRrIJue6e3V",
        "outputId": "88a9de3a-d7f3-4efe-a281-42ae4a4bec96"
      },
      "execution_count": 8,
      "outputs": [
        {
          "output_type": "stream",
          "name": "stdout",
          "text": [
            "0   2025-03-28 12:00:00+08:00\n",
            "1   2025-03-28 12:05:00+08:00\n",
            "2   2025-03-28 12:15:00+08:00\n",
            "3   2025-03-28 12:20:00+08:00\n",
            "4   2025-03-28 12:25:00+08:00\n",
            "Name: Datetime, dtype: datetime64[ns, Asia/Singapore]\n"
          ]
        }
      ]
    },
    {
      "cell_type": "markdown",
      "source": [
        "**Define Asia High/Lows**"
      ],
      "metadata": {
        "id": "FDd4oWRb7hlT"
      }
    },
    {
      "cell_type": "code",
      "source": [
        "def get_asia_high_low(df):\n",
        "    today = datetime.now(pytz.timezone('Asia/Singapore'))\n",
        "    yesterday = today - timedelta(days=1)\n",
        "    asia_start = yesterday.replace(hour=23, minute=0, second=0, microsecond=0)\n",
        "    asia_end = asia_start + timedelta(hours=7)\n",
        "    asia_df = df[(df['Datetime'] >= asia_start) & (df['Datetime'] <= asia_end)]\n",
        "    if asia_df.empty:\n",
        "        print(\"No data found for Asia session. Check data range or timezone.\")\n",
        "        return None, None\n",
        "    asia_high = asia_df['High'].max()\n",
        "    asia_low = asia_df['Low'].min()\n",
        "    return asia_high, asia_low\n",
        "asia_high, asia_low = get_asia_high_low(data)\n",
        "if asia_high is not None and asia_low is not None:\n",
        "    asia_high_val = asia_high.item() if hasattr(asia_high, 'item') else asia_high\n",
        "    asia_low_val = asia_low.item() if hasattr(asia_low, 'item') else asia_low\n",
        "\n",
        "    if not pd.isna(asia_high_val) and not pd.isna(asia_low_val):\n",
        "        print(\"Asia Session High:\", asia_high_val)\n",
        "        print(\"Asia Session Low:\", asia_low_val)\n",
        "    else:\n",
        "        print(\"Asia session data exists, but high/low are NaN.\")\n",
        "else:\n",
        "    print(\"Asia session data was not found.\")\n"
      ],
      "metadata": {
        "colab": {
          "base_uri": "https://localhost:8080/"
        },
        "id": "gV8FJ-9H7Vwz",
        "outputId": "750a79cf-e647-46b4-9ff6-25c90dd12be5"
      },
      "execution_count": 15,
      "outputs": [
        {
          "output_type": "stream",
          "name": "stdout",
          "text": [
            "Asia Session High: 3152.800048828125\n",
            "Asia Session Low: 3099.0\n"
          ]
        }
      ]
    },
    {
      "cell_type": "markdown",
      "source": [
        "**London Sweep**"
      ],
      "metadata": {
        "id": "gjIrVcsJCCWI"
      }
    },
    {
      "cell_type": "code",
      "source": [
        "def check_london_sweep(df, asia_high, asia_low):\n",
        "    today = datetime.now(pytz.timezone('Asia/Singapore')).replace(hour=14, minute=0, second=0, microsecond=0)\n",
        "    london_start = today\n",
        "    london_end = london_start + timedelta(hours=4)\n",
        "    london_df = df[(df['Datetime'] >= london_start) & (df['Datetime'] <= london_end)]\n",
        "\n",
        "    if london_df.empty:\n",
        "        print(\"No data found for London session.\")\n",
        "        return None\n",
        "    sweep_high = (london_df['High'] > asia_high).any()\n",
        "    sweep_low = (london_df['Low'] < asia_low).any()\n",
        "    return sweep_high, sweep_low, london_df\n",
        "sweep_high, sweep_low, london_df = check_london_sweep(data, asia_high_val, asia_low_val)\n",
        "sweep_high = sweep_high.item() if hasattr(sweep_high, 'item') else sweep_high\n",
        "sweep_low = sweep_low.item() if hasattr(sweep_low, 'item') else sweep_low\n",
        "\n",
        "if sweep_high:\n",
        "    print(\"London session **swept Asia HIGH** – potential SHORT setup.\")\n",
        "if sweep_low:\n",
        "    print(\"London session **swept Asia LOW** – potential LONG setup.\")\n",
        "if not sweep_high and not sweep_low:\n",
        "    print(\"No sweeps during London session.\")"
      ],
      "metadata": {
        "colab": {
          "base_uri": "https://localhost:8080/"
        },
        "id": "BQqJkzlQB-68",
        "outputId": "15ab69d6-9e89-4d05-a71d-6bec16ac4007"
      },
      "execution_count": 31,
      "outputs": [
        {
          "output_type": "stream",
          "name": "stdout",
          "text": [
            "London session **swept Asia LOW** – potential LONG setup.\n"
          ]
        }
      ]
    },
    {
      "cell_type": "markdown",
      "source": [
        "**Bullish/Bearish Engulfing Candle Detection**"
      ],
      "metadata": {
        "id": "Z7FhN8fVDQVv"
      }
    },
    {
      "cell_type": "code",
      "source": [
        "def detect_engulfing(df):\n",
        "    engulfing_signals = []\n",
        "\n",
        "    for i in range(1, len(df)):\n",
        "        prev = df.iloc[i - 1]\n",
        "        curr = df.iloc[i]\n",
        "        prev_open = prev['Open'].item() if hasattr(prev['Open'], 'item') else prev['Open']\n",
        "        prev_close = prev['Close'].item() if hasattr(prev['Close'], 'item') else prev['Close']\n",
        "        curr_open = curr['Open'].item() if hasattr(curr['Open'], 'item') else curr['Open']\n",
        "        curr_close = curr['Close'].item() if hasattr(curr['Close'], 'item') else curr['Close']\n",
        "        if (prev_close < prev_open) and (curr_close > curr_open) and \\\n",
        "           (curr_open < prev_close) and (curr_close > prev_open):\n",
        "            engulfing_signals.append(('bullish', curr['Datetime'].iloc[0]))\n",
        "        elif (prev_close > prev_open) and (curr_close < curr_open) and \\\n",
        "             (curr_open > prev_close) and (curr_close < prev_open):\n",
        "            engulfing_signals.append(('bearish', curr['Datetime'].iloc[0]))\n",
        "\n",
        "    return engulfing_signals\n",
        "\n",
        "engulfing_signals = detect_engulfing(london_df)\n",
        "\n",
        "for signal in engulfing_signals:\n",
        "    print(f\"Engulfing Detected: {signal[0].upper()} at {signal[1]}\")\n"
      ],
      "metadata": {
        "colab": {
          "base_uri": "https://localhost:8080/"
        },
        "id": "ptXwDtGwDU1R",
        "outputId": "84e86943-2b36-4b36-94da-31374fb16bed"
      },
      "execution_count": 36,
      "outputs": [
        {
          "output_type": "stream",
          "name": "stdout",
          "text": [
            "Engulfing Detected: BULLISH at 2025-04-04 15:05:00+08:00\n",
            "Engulfing Detected: BULLISH at 2025-04-04 15:45:00+08:00\n",
            "Engulfing Detected: BEARISH at 2025-04-04 17:55:00+08:00\n"
          ]
        }
      ]
    },
    {
      "cell_type": "markdown",
      "source": [
        "**Alert System**"
      ],
      "metadata": {
        "id": "OfdsuVFTKbEq"
      }
    },
    {
      "cell_type": "code",
      "source": [],
      "metadata": {
        "id": "MDUxgB-fMQhY"
      },
      "execution_count": null,
      "outputs": []
    },
    {
      "cell_type": "code",
      "source": [
        "import requests\n",
        "BOT_API_TOKEN = '7724318587:AAF2pB62HMrrjA2oRgg4r59j2UNfwA4WFHM'\n",
        "CHAT_ID = '5791808659'\n",
        "\n",
        "def send_telegram_message(message):\n",
        "    url = f\"https://api.telegram.org/bot{BOT_API_TOKEN}/sendMessage\"\n",
        "    payload = {\n",
        "        'chat_id': CHAT_ID,\n",
        "        'text': message\n",
        "    }\n",
        "    response = requests.post(url, data=payload)\n",
        "    if response.status_code == 200:\n",
        "        print(f\"Message sent to {CHAT_ID}\")\n",
        "    else:\n",
        "        print(f\"Failed to send message: {response.text}\")\n",
        "\n",
        "def detect_engulfing(df):\n",
        "    engulfing_signals = []\n",
        "\n",
        "    for i in range(1, len(df)):\n",
        "        prev = df.iloc[i - 1]\n",
        "        curr = df.iloc[i]\n",
        "\n",
        "        prev_open = prev['Open'].item() if hasattr(prev['Open'], 'item') else prev['Open']\n",
        "        prev_close = prev['Close'].item() if hasattr(prev['Close'], 'item') else prev['Close']\n",
        "        curr_open = curr['Open'].item() if hasattr(curr['Open'], 'item') else curr['Open']\n",
        "        curr_close = curr['Close'].item() if hasattr(curr['Close'], 'item') else curr['Close']\n",
        "        if (prev_close < prev_open) and (curr_close > curr_open) and \\\n",
        "           (curr_open < prev_close) and (curr_close > prev_open):\n",
        "            engulfing_signals.append(('bullish', curr['Datetime']))\n",
        "            send_telegram_message(f\"Engulfing Detected: BULLISH at {curr['Datetime']}\")\n",
        "        elif (prev_close > prev_open) and (curr_close < curr_open) and \\\n",
        "             (curr_open > prev_close) and (curr_close < prev_open):\n",
        "            engulfing_signals.append(('bearish', curr['Datetime']))\n",
        "            send_telegram_message(f\"Engulfing Detected: BEARISH at {curr['Datetime']}\")\n",
        "\n",
        "    return engulfing_signals\n",
        "engulfing_signals = detect_engulfing(london_df)\n",
        "for signal in engulfing_signals:\n",
        "    print(f\"Engulfing Detected: {signal[0].upper()} at {signal[1]}\")\n"
      ],
      "metadata": {
        "colab": {
          "base_uri": "https://localhost:8080/"
        },
        "id": "_ivbN2oLKc-Z",
        "outputId": "3be00b71-4321-40a9-ed0c-44ab49f7cfe1"
      },
      "execution_count": 41,
      "outputs": [
        {
          "output_type": "stream",
          "name": "stdout",
          "text": [
            "Message sent to 5791808659\n",
            "Message sent to 5791808659\n",
            "Message sent to 5791808659\n",
            "Engulfing Detected: BULLISH at Ticker\n",
            "   2025-04-04 15:05:00+08:00\n",
            "Name: 1413, dtype: datetime64[ns, Asia/Singapore]\n",
            "Engulfing Detected: BULLISH at Ticker\n",
            "   2025-04-04 15:45:00+08:00\n",
            "Name: 1420, dtype: datetime64[ns, Asia/Singapore]\n",
            "Engulfing Detected: BEARISH at Ticker\n",
            "   2025-04-04 17:55:00+08:00\n",
            "Name: 1446, dtype: datetime64[ns, Asia/Singapore]\n"
          ]
        }
      ]
    }
  ]
}